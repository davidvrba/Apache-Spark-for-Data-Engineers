{
 "cells": [
  {
   "cell_type": "markdown",
   "id": "36af78e7",
   "metadata": {},
   "source": [
    "# Task\n",
    "\n",
    "In this notebook you will answer a simple analytical question but as you will see it might be tricky to obtain a correct answer."
   ]
  },
  {
   "cell_type": "code",
   "execution_count": null,
   "id": "053a4e89",
   "metadata": {},
   "outputs": [],
   "source": [
    "import pyspark\n",
    "from pyspark.sql import SparkSession\n",
    "from pyspark.sql.functions import *\n",
    "from pyspark.sql.types import *\n",
    "import os"
   ]
  },
  {
   "cell_type": "code",
   "execution_count": null,
   "id": "2165058e",
   "metadata": {},
   "outputs": [],
   "source": [
    "spark = (\n",
    "    SparkSession\n",
    "    .builder\n",
    "    .appName('Debugging-I')\n",
    "    .getOrCreate()\n",
    ")"
   ]
  },
  {
   "cell_type": "code",
   "execution_count": null,
   "id": "634b015f",
   "metadata": {},
   "outputs": [],
   "source": [
    "base_path = os.getcwd()\n",
    "\n",
    "project_path = ('/').join(base_path.split('/')[0:-3]) \n",
    "\n",
    "usersP_output_path =  os.path.join(project_path, 'data/usersP')"
   ]
  },
  {
   "cell_type": "markdown",
   "id": "5435ef46",
   "metadata": {},
   "source": [
    "1. Read the data that represent users from the path `usersP_output_path`\n",
    " * the dataset is partitioned by `last2_id` which are last two digits of the `user_id`. So for example a user with user_id = 540 would be in the partition `40`\n",
    "2. Find out how many users are together in the partitions `02` and `03`\n",
    " * try more different ways how to retrieve the result. \n",
    "3. Can you see the problem? If yes, can you explain what happened and determine what should be the correct approach?"
   ]
  },
  {
   "cell_type": "code",
   "execution_count": null,
   "id": "7b6b4de9",
   "metadata": {},
   "outputs": [],
   "source": [
    "users = spark.read.parquet(usersP_output_path)"
   ]
  },
  {
   "cell_type": "code",
   "execution_count": null,
   "id": "f4c006f3",
   "metadata": {},
   "outputs": [],
   "source": [
    "# filter the users using the isin function:\n",
    "\n"
   ]
  },
  {
   "cell_type": "code",
   "execution_count": null,
   "id": "21aa4ed7",
   "metadata": {},
   "outputs": [],
   "source": [
    "# filter the users using `==` and `|` operators\n",
    "\n"
   ]
  },
  {
   "cell_type": "code",
   "execution_count": null,
   "id": "40a51b0c",
   "metadata": {},
   "outputs": [],
   "source": [
    "# read the data directly from the path /last2_id=02 and from the path /last2_id=03\n",
    "\n"
   ]
  },
  {
   "cell_type": "code",
   "execution_count": null,
   "id": "54e1e077",
   "metadata": {},
   "outputs": [],
   "source": [
    "# Can yo usee the problem?\n",
    "# Hint: check the schema of users\n",
    "\n"
   ]
  },
  {
   "cell_type": "code",
   "execution_count": null,
   "id": "eb892548",
   "metadata": {},
   "outputs": [],
   "source": [
    "spark.stop()"
   ]
  }
 ],
 "metadata": {
  "kernelspec": {
   "display_name": "PySpark Delta",
   "language": "python",
   "name": "pyspark-delta"
  },
  "language_info": {
   "codemirror_mode": {
    "name": "ipython",
    "version": 3
   },
   "file_extension": ".py",
   "mimetype": "text/x-python",
   "name": "python",
   "nbconvert_exporter": "python",
   "pygments_lexer": "ipython3",
   "version": "3.8.1"
  }
 },
 "nbformat": 4,
 "nbformat_minor": 5
}
