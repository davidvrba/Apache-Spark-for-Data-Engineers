{
 "cells": [
  {
   "cell_type": "markdown",
   "id": "c59700d7",
   "metadata": {},
   "source": [
    "# Task\n",
    "\n",
    "Investigate a problem related to reading data with schema."
   ]
  },
  {
   "cell_type": "code",
   "execution_count": null,
   "id": "4c9128b6",
   "metadata": {},
   "outputs": [],
   "source": [
    "import pyspark\n",
    "from pyspark.sql import SparkSession\n",
    "from pyspark.sql.functions import *\n",
    "from pyspark.sql.types import *\n",
    "\n",
    "\n",
    "import os"
   ]
  },
  {
   "cell_type": "code",
   "execution_count": null,
   "id": "ddc1c8e6",
   "metadata": {},
   "outputs": [],
   "source": [
    "spark = (\n",
    "    SparkSession\n",
    "    .builder\n",
    "    .appName('Debugging-II')\n",
    "    .getOrCreate()\n",
    ")"
   ]
  },
  {
   "cell_type": "code",
   "execution_count": null,
   "id": "25e2e7f8",
   "metadata": {},
   "outputs": [],
   "source": [
    "spark.version"
   ]
  },
  {
   "cell_type": "code",
   "execution_count": null,
   "id": "1b10606f",
   "metadata": {},
   "outputs": [],
   "source": [
    "base_path = os.getcwd()\n",
    "\n",
    "project_path = ('/').join(base_path.split('/')[0:-3]) \n",
    "\n",
    "sample_data_with_metadata = os.path.join(project_path, 'data/sample_data_with_metadata')"
   ]
  },
  {
   "cell_type": "markdown",
   "id": "98b85ea2",
   "metadata": {},
   "source": [
    "1. Read data from the `sample_data_with_metadata`, the format of the files is `JSON` and the schema is provided bellow\n",
    "2. Find out how many records are there that have in the user_metadata.reputation column value 0.\n",
    "3. Read the data twice, first with the schema and then without the schema\n",
    "4. Can you see a problem? If yes, can you explain what happened and fix it?"
   ]
  },
  {
   "cell_type": "code",
   "execution_count": null,
   "id": "227a0266",
   "metadata": {},
   "outputs": [],
   "source": [
    "data_schema = StructType([\n",
    "    StructField('question_id', LongType()),\n",
    "    StructField('user_id', LongType()),\n",
    "    StructField('creation_date', TimestampType()),\n",
    "    StructField('comments', LongType()),\n",
    "    StructField('user_metadata', StructType([\n",
    "        StructField('has_location', BooleanType()),\n",
    "        StructField('upvotes', LongType()),\n",
    "        StructField('reputation', LongType()),\n",
    "    ]))\n",
    "])"
   ]
  },
  {
   "cell_type": "code",
   "execution_count": null,
   "id": "0e0c37a4",
   "metadata": {},
   "outputs": [],
   "source": [
    "# read the data with the schema and filter for user_metadata.upovotes == 0\n",
    "\n"
   ]
  },
  {
   "cell_type": "code",
   "execution_count": null,
   "id": "8314512d",
   "metadata": {},
   "outputs": [],
   "source": [
    "# read the data without the schema and filter for user_metadata.upovotes == 0\n",
    "\n"
   ]
  },
  {
   "cell_type": "code",
   "execution_count": null,
   "id": "3f6f1cb5",
   "metadata": {},
   "outputs": [],
   "source": [
    "spark.stop()"
   ]
  }
 ],
 "metadata": {
  "kernelspec": {
   "display_name": "PySpark Delta Python 3.10.1",
   "language": "python",
   "name": "python-3.10"
  },
  "language_info": {
   "codemirror_mode": {
    "name": "ipython",
    "version": 3
   },
   "file_extension": ".py",
   "mimetype": "text/x-python",
   "name": "python",
   "nbconvert_exporter": "python",
   "pygments_lexer": "ipython3",
   "version": "3.10.1"
  }
 },
 "nbformat": 4,
 "nbformat_minor": 5
}
