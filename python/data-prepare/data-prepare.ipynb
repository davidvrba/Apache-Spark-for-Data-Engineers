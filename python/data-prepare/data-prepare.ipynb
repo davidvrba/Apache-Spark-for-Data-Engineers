{
 "cells": [
  {
   "cell_type": "code",
   "execution_count": null,
   "id": "88913b09",
   "metadata": {},
   "outputs": [],
   "source": [
    "import pyspark\n",
    "from pyspark.sql import SparkSession\n",
    "from pyspark.sql.functions import *\n",
    "\n",
    "import os"
   ]
  },
  {
   "cell_type": "code",
   "execution_count": null,
   "id": "6b22e8b6",
   "metadata": {},
   "outputs": [],
   "source": [
    "spark = (\n",
    "    SparkSession\n",
    "    .builder\n",
    "    .appName('Prepare data')\n",
    "    .config(\"spark.driver.host\",\"127.0.0.1\")\n",
    "    .enableHiveSupport()\n",
    "    .getOrCreate()\n",
    ")"
   ]
  },
  {
   "cell_type": "code",
   "execution_count": null,
   "id": "a212521b",
   "metadata": {},
   "outputs": [],
   "source": [
    "print(spark.version)"
   ]
  },
  {
   "cell_type": "code",
   "execution_count": null,
   "id": "8ef2f3e9",
   "metadata": {},
   "outputs": [],
   "source": [
    "base_path = os.getcwd()\n",
    "\n",
    "project_path = ('/').join(base_path.split('/')[0:-2]) \n",
    "\n",
    "users_input_path = os.path.join(project_path, 'data/users')\n",
    "questions_input_path = os.path.join(project_path, 'data/questions')\n",
    "answers_input_path = os.path.join(project_path, 'data/answers')\n",
    "\n",
    "users_table_path = os.path.join(project_path, 'data/tables/users')\n",
    "questions_table_path = os.path.join(project_path, 'data/tables/questions')\n",
    "answers_table_path = os.path.join(project_path, 'data/tables/answers')\n",
    "\n",
    "\n",
    "users_tableB_path = os.path.join(project_path, 'data/tables/usersB')\n",
    "usersP_output_path =  os.path.join(project_path, 'data/usersP')\n",
    "\n",
    "questions_tableA_path = os.path.join(project_path, 'data/tables/questionsA')\n",
    "\n",
    "\n",
    "users_base_path = os.path.join(project_path, 'data/users_base')\n",
    "users_increment_path = os.path.join(project_path, 'data/users_increment')\n",
    "\n",
    "sample_data_with_metadata = os.path.join(project_path, 'data/sample_data_with_metadata')"
   ]
  },
  {
   "cell_type": "code",
   "execution_count": null,
   "id": "84f61109",
   "metadata": {},
   "outputs": [],
   "source": [
    "(\n",
    "    spark.read.parquet(users_input_path)\n",
    "    .withColumn('user_id', when(col('user_id') == 22, lit(2)).otherwise(col('user_id')))\n",
    "    .withColumn('last2_id', col('user_id').substr(-2, 100))\n",
    "    .repartition('last2_id')\n",
    "    .write\n",
    "    .option('path', usersP_output_path)\n",
    "    .mode('overwrite')\n",
    "    .partitionBy('last2_id')\n",
    "    .save()\n",
    ")"
   ]
  },
  {
   "cell_type": "code",
   "execution_count": null,
   "id": "e8187667",
   "metadata": {},
   "outputs": [],
   "source": [
    "(\n",
    "    spark.read.parquet(users_input_path)\n",
    "    .write\n",
    "    .mode('overwrite')\n",
    "    .option('path', users_table_path)\n",
    "    .saveAsTable('users')\n",
    ")"
   ]
  },
  {
   "cell_type": "code",
   "execution_count": null,
   "id": "7e03cb98",
   "metadata": {},
   "outputs": [],
   "source": [
    "(\n",
    "    spark.read.parquet(questions_input_path)\n",
    "    .write\n",
    "    .mode('overwrite')\n",
    "    .option('path', questions_table_path)\n",
    "    .saveAsTable('questions')\n",
    ")"
   ]
  },
  {
   "cell_type": "code",
   "execution_count": null,
   "id": "391aaba7",
   "metadata": {},
   "outputs": [],
   "source": [
    "(\n",
    "    spark.read.parquet(answers_input_path)\n",
    "    .write\n",
    "    .mode('overwrite')\n",
    "    .option('path', answers_table_path)\n",
    "    .saveAsTable('answers')\n",
    ")"
   ]
  },
  {
   "cell_type": "code",
   "execution_count": null,
   "id": "43b57085",
   "metadata": {},
   "outputs": [],
   "source": [
    "(\n",
    "    spark.table('users')\n",
    "    .repartition(20, 'user_id')\n",
    "    .write\n",
    "    .mode('overwrite')\n",
    "    .bucketBy(20, 'user_id')\n",
    "    .option('path', users_tableB_path)\n",
    "    .saveAsTable('usersB')\n",
    ")"
   ]
  },
  {
   "cell_type": "code",
   "execution_count": null,
   "id": "911c29f0",
   "metadata": {},
   "outputs": [],
   "source": [
    "(\n",
    "    spark.table('questions')\n",
    "    .withColumn('user_id', col('user_id').cast('int'))\n",
    "    .repartition(8)\n",
    "    .write\n",
    "    .option('path', questions_tableA_path)\n",
    "    .mode('overwrite')\n",
    "    .saveAsTable('questionsA')\n",
    ")"
   ]
  },
  {
   "cell_type": "code",
   "execution_count": null,
   "id": "a2059385",
   "metadata": {},
   "outputs": [],
   "source": [
    "(\n",
    "    spark.read.parquet(users_input_path)\n",
    "    .filter(col('user_id') == 22)\n",
    ").show()"
   ]
  },
  {
   "cell_type": "code",
   "execution_count": null,
   "id": "4eeaf34b",
   "metadata": {},
   "outputs": [],
   "source": [
    "(\n",
    "    spark.read.parquet(users_input_path)\n",
    "    .withColumn('location', lit(None).cast('string'))\n",
    "    .write\n",
    "    .option('path', users_base_path)\n",
    "    .mode('overwrite')\n",
    "    .save()\n",
    ")"
   ]
  },
  {
   "cell_type": "code",
   "execution_count": null,
   "id": "cb39d350",
   "metadata": {},
   "outputs": [],
   "source": [
    "(\n",
    "    spark.read.parquet(users_input_path)\n",
    "    .filter(col('location').isNotNull())\n",
    "    .write\n",
    "    .option('path', users_increment_path)\n",
    "    .mode('overwrite')\n",
    "    .save()\n",
    ")"
   ]
  },
  {
   "cell_type": "code",
   "execution_count": null,
   "id": "1ac13093",
   "metadata": {},
   "outputs": [],
   "source": [
    "spark.stop()"
   ]
  }
 ],
 "metadata": {
  "kernelspec": {
   "display_name": "PySpark Delta",
   "language": "python",
   "name": "pyspark-delta"
  },
  "language_info": {
   "codemirror_mode": {
    "name": "ipython",
    "version": 3
   },
   "file_extension": ".py",
   "mimetype": "text/x-python",
   "name": "python",
   "nbconvert_exporter": "python",
   "pygments_lexer": "ipython3",
   "version": "3.8.1"
  }
 },
 "nbformat": 4,
 "nbformat_minor": 5
}
