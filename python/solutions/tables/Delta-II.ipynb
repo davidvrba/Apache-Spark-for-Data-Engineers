{
 "cells": [
  {
   "cell_type": "code",
   "execution_count": null,
   "id": "62dfd0b2-4e8d-4ff2-b729-c8b9dd387391",
   "metadata": {},
   "outputs": [],
   "source": [
    "from pyspark.sql import SparkSession\n",
    "from pyspark.sql.functions import *\n",
    "from delta.tables import DeltaTable\n",
    "import os"
   ]
  },
  {
   "cell_type": "markdown",
   "id": "1cc1e062-963b-48e4-938b-b8151deed754",
   "metadata": {},
   "source": [
    "* recreate the Delta table in the metastore from the data which is in the location\n",
    "* enable the Change Data Feed (CDF) feature on a Delta table\n",
    "* delete a record and query the CDF\n",
    "* append the record back using the CDF"
   ]
  },
  {
   "cell_type": "code",
   "execution_count": null,
   "id": "3bf69771-1b19-4588-98f9-116a3aebbf27",
   "metadata": {},
   "outputs": [],
   "source": [
    "spark = (\n",
    "    SparkSession\n",
    "    .builder\n",
    "    .appName('delta-II')\n",
    "    .config(\"spark.jars.packages\", \"io.delta:delta-spark_2.12:3.2.1\")\n",
    "    .config(\"spark.sql.extensions\", \"io.delta.sql.DeltaSparkSessionExtension\")\n",
    "    .config(\"spark.sql.catalog.spark_catalog\", \"org.apache.spark.sql.delta.catalog.DeltaCatalog\")\n",
    "    .getOrCreate()\n",
    ")"
   ]
  },
  {
   "cell_type": "code",
   "execution_count": null,
   "id": "542884ac-b59d-4c73-8e1c-197c409c7b84",
   "metadata": {},
   "outputs": [],
   "source": [
    "base_path = os.getcwd()\n",
    "\n",
    "project_path = ('/').join(base_path.split('/')[0:-3]) \n",
    "\n",
    "users_base_path = os.path.join(project_path, 'data/users_base')\n",
    "users_increment_path = os.path.join(project_path, 'data/users_increment')\n",
    "accounts_output_path = os.path.join(project_path, 'output/delta/accounts')"
   ]
  },
  {
   "cell_type": "code",
   "execution_count": null,
   "id": "aa403757-f24d-4a1e-85bc-317a53966eef",
   "metadata": {},
   "outputs": [],
   "source": [
    "spark.sql('drop table if exists accounts')"
   ]
  },
  {
   "cell_type": "code",
   "execution_count": null,
   "id": "e93613f8-a1bd-41d8-9450-668a528d8b62",
   "metadata": {},
   "outputs": [],
   "source": [
    "spark.sql('show tables').show()"
   ]
  },
  {
   "cell_type": "code",
   "execution_count": null,
   "id": "7ca67d52-911f-41e3-8feb-f031b7ad2108",
   "metadata": {},
   "outputs": [],
   "source": [
    "(\n",
    "    spark.read.parquet(users_base_path)\n",
    "    .write\n",
    "    .mode('overwrite')\n",
    "    .format('delta')\n",
    "    .option('path', accounts_output_path)\n",
    "    .saveAsTable('accounts')\n",
    ")"
   ]
  },
  {
   "cell_type": "code",
   "execution_count": null,
   "id": "8b082b31-bd5c-4a70-a240-d417a7f7c096",
   "metadata": {},
   "outputs": [],
   "source": [
    "spark.sql('ALTER TABLE accounts SET TBLPROPERTIES (delta.enableChangeDataFeed = true)')"
   ]
  },
  {
   "cell_type": "code",
   "execution_count": null,
   "id": "2a9d7dc3-8133-46f5-a3b1-651ab53977df",
   "metadata": {},
   "outputs": [],
   "source": [
    "spark.sql('describe history accounts').select('version', 'timestamp', 'operation').show()"
   ]
  },
  {
   "cell_type": "code",
   "execution_count": null,
   "id": "da3f2ce5-336a-4ad3-bde9-a3ea9d582b21",
   "metadata": {},
   "outputs": [],
   "source": [
    "(\n",
    "    spark.read\n",
    "    .format('delta')\n",
    "    .option('readChangeFeed', 'true')\n",
    "    .option('startingVersion', 8)\n",
    "    .table('accounts')\n",
    ").show()"
   ]
  },
  {
   "cell_type": "code",
   "execution_count": null,
   "id": "e1da506b-104d-4c51-ab85-944f3f40d993",
   "metadata": {},
   "outputs": [],
   "source": [
    "DeltaTable.forName(spark, 'accounts').delete(col('user_id') == 79)"
   ]
  },
  {
   "cell_type": "code",
   "execution_count": null,
   "id": "11c64359-bf76-46d7-b9b7-2d09fc4ada5e",
   "metadata": {},
   "outputs": [],
   "source": [
    "(\n",
    "    spark.read\n",
    "    .format('delta')\n",
    "    .option('readChangeFeed', 'true')\n",
    "    .option('startingVersion', 8)\n",
    "    .table('accounts')\n",
    ").show()"
   ]
  },
  {
   "cell_type": "code",
   "execution_count": null,
   "id": "acd5fc5d-77c1-47d0-b11c-efc7a434b16a",
   "metadata": {},
   "outputs": [],
   "source": [
    "(\n",
    "    spark.read\n",
    "    .format('delta')\n",
    "    .option('readChangeFeed', 'true')\n",
    "    .option('startingVersion', 8)\n",
    "    .table('accounts')\n",
    "    .drop('_change_type', '_commit_version', '_commit_timestamp')\n",
    "    .write\n",
    "    .mode('append')\n",
    "    .format('delta')\n",
    "    .option('path', accounts_output_path)\n",
    "    .saveAsTable('accounts')\n",
    ")"
   ]
  },
  {
   "cell_type": "code",
   "execution_count": null,
   "id": "ce159b13-0f37-434f-9ba1-2ca1d90984e9",
   "metadata": {},
   "outputs": [],
   "source": [
    "spark.sql('describe history accounts').select('version', 'timestamp', 'operation').show()"
   ]
  },
  {
   "cell_type": "code",
   "execution_count": null,
   "id": "c6bec510-22fa-417f-a35c-ad380a7a82df",
   "metadata": {},
   "outputs": [],
   "source": [
    "(\n",
    "    spark.read\n",
    "    .format('delta')\n",
    "    .option('readChangeFeed', 'true')\n",
    "    .option('startingVersion', 8)\n",
    "    .table('accounts')\n",
    ").show()"
   ]
  },
  {
   "cell_type": "code",
   "execution_count": null,
   "id": "9ea93f58-70c7-47c2-a57c-7c729d40fb04",
   "metadata": {},
   "outputs": [],
   "source": [
    "spark.sql('drop table if exists accounts')"
   ]
  },
  {
   "cell_type": "code",
   "execution_count": null,
   "id": "5d286002-a981-4a06-9649-020ae6d2507c",
   "metadata": {},
   "outputs": [],
   "source": [
    "DeltaTable.forPath(spark, accounts_output_path).toDF().show()"
   ]
  },
  {
   "cell_type": "code",
   "execution_count": null,
   "id": "c1d063ea-b0fe-40e7-a77d-54f902a70cf6",
   "metadata": {},
   "outputs": [],
   "source": [
    "DeltaTable.forPath(spark, accounts_output_path).history().select('version', 'timestamp', 'operation').show(truncate=30)"
   ]
  },
  {
   "cell_type": "code",
   "execution_count": null,
   "id": "237bd32f-8c49-4d32-afa7-f978e91ae271",
   "metadata": {},
   "outputs": [],
   "source": [
    "spark.sql(f\"\"\"\n",
    "    CREATE TABLE accounts\n",
    "    USING DELTA\n",
    "    LOCATION '{accounts_output_path}'\n",
    "\"\"\")"
   ]
  },
  {
   "cell_type": "code",
   "execution_count": null,
   "id": "e26433ea-f91f-400c-ba21-74c8a6534761",
   "metadata": {},
   "outputs": [],
   "source": [
    "spark.sql('show tables').show()"
   ]
  },
  {
   "cell_type": "code",
   "execution_count": null,
   "id": "08c89cd8-4dd7-4a67-ac51-bcc5c1e83811",
   "metadata": {},
   "outputs": [],
   "source": [
    "(\n",
    "    spark.read\n",
    "    .format('delta')\n",
    "    .option('readChangeFeed', 'true')\n",
    "    .option('startingVersion', 8)\n",
    "    .table('accounts')\n",
    ").show()"
   ]
  },
  {
   "cell_type": "code",
   "execution_count": null,
   "id": "f6a07685-47c8-4f59-b0bf-9589c16bc9a1",
   "metadata": {},
   "outputs": [],
   "source": []
  }
 ],
 "metadata": {
  "kernelspec": {
   "display_name": "Python 3 (ipykernel)",
   "language": "python",
   "name": "python3"
  },
  "language_info": {
   "codemirror_mode": {
    "name": "ipython",
    "version": 3
   },
   "file_extension": ".py",
   "mimetype": "text/x-python",
   "name": "python",
   "nbconvert_exporter": "python",
   "pygments_lexer": "ipython3",
   "version": "3.12.3"
  }
 },
 "nbformat": 4,
 "nbformat_minor": 5
}
