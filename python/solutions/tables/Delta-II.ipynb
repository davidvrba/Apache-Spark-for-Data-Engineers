{
 "cells": [
  {
   "cell_type": "code",
   "execution_count": 4,
   "id": "62dfd0b2-4e8d-4ff2-b729-c8b9dd387391",
   "metadata": {},
   "outputs": [],
   "source": [
    "from pyspark.sql import SparkSession\n",
    "from pyspark.sql.functions import *\n",
    "from delta.tables import DeltaTable\n",
    "import os"
   ]
  },
  {
   "cell_type": "markdown",
   "id": "1cc1e062-963b-48e4-938b-b8151deed754",
   "metadata": {},
   "source": [
    "* recreate the Delta table in the metastore from the data which is in the location\n",
    "* enable the Change Data Feed (CDF) feature on a Delta table\n",
    "* delete a record and query the CDF\n",
    "* append the record back using the CDF"
   ]
  },
  {
   "cell_type": "code",
   "execution_count": 5,
   "id": "3bf69771-1b19-4588-98f9-116a3aebbf27",
   "metadata": {},
   "outputs": [],
   "source": [
    "spark = (\n",
    "    SparkSession\n",
    "    .builder\n",
    "    .appName('delta-II')\n",
    "    .config(\"spark.jars.packages\", \"io.delta:delta-spark_2.12:3.2.1\")\n",
    "    .config(\"spark.sql.extensions\", \"io.delta.sql.DeltaSparkSessionExtension\")\n",
    "    .config(\"spark.sql.catalog.spark_catalog\", \"org.apache.spark.sql.delta.catalog.DeltaCatalog\")\n",
    "    .getOrCreate()\n",
    ")"
   ]
  },
  {
   "cell_type": "code",
   "execution_count": 8,
   "id": "542884ac-b59d-4c73-8e1c-197c409c7b84",
   "metadata": {},
   "outputs": [],
   "source": [
    "base_path = os.getcwd()\n",
    "\n",
    "project_path = ('/').join(base_path.split('/')[0:-3]) \n",
    "\n",
    "users_base_path = os.path.join(project_path, 'data/users_base')\n",
    "users_increment_path = os.path.join(project_path, 'data/users_increment')\n",
    "accounts_output_path = os.path.join(project_path, 'output/delta/accounts')"
   ]
  },
  {
   "cell_type": "code",
   "execution_count": 40,
   "id": "aa403757-f24d-4a1e-85bc-317a53966eef",
   "metadata": {},
   "outputs": [
    {
     "data": {
      "text/plain": [
       "DataFrame[]"
      ]
     },
     "execution_count": 40,
     "metadata": {},
     "output_type": "execute_result"
    }
   ],
   "source": [
    "spark.sql('drop table if exists accounts')"
   ]
  },
  {
   "cell_type": "code",
   "execution_count": 6,
   "id": "e93613f8-a1bd-41d8-9450-668a528d8b62",
   "metadata": {},
   "outputs": [
    {
     "name": "stdout",
     "output_type": "stream",
     "text": [
      "+---------+---------+-----------+\n",
      "|namespace|tableName|isTemporary|\n",
      "+---------+---------+-----------+\n",
      "+---------+---------+-----------+\n",
      "\n"
     ]
    }
   ],
   "source": [
    "spark.sql('show tables').show()"
   ]
  },
  {
   "cell_type": "code",
   "execution_count": 10,
   "id": "7ca67d52-911f-41e3-8feb-f031b7ad2108",
   "metadata": {},
   "outputs": [
    {
     "name": "stderr",
     "output_type": "stream",
     "text": [
      "24/10/10 13:16:58 WARN SparkStringUtils: Truncated the string representation of a plan since it was too large. This behavior can be adjusted by setting 'spark.sql.debug.maxToStringFields'.\n",
      "                                                                                \r"
     ]
    }
   ],
   "source": [
    "(\n",
    "    spark.read.parquet(users_base_path)\n",
    "    .write\n",
    "    .mode('overwrite')\n",
    "    .format('delta')\n",
    "    .option('path', accounts_output_path)\n",
    "    .saveAsTable('accounts')\n",
    ")"
   ]
  },
  {
   "cell_type": "code",
   "execution_count": 11,
   "id": "8b082b31-bd5c-4a70-a240-d417a7f7c096",
   "metadata": {},
   "outputs": [
    {
     "data": {
      "text/plain": [
       "DataFrame[]"
      ]
     },
     "execution_count": 11,
     "metadata": {},
     "output_type": "execute_result"
    }
   ],
   "source": [
    "spark.sql('ALTER TABLE accounts SET TBLPROPERTIES (delta.enableChangeDataFeed = true)')"
   ]
  },
  {
   "cell_type": "code",
   "execution_count": 17,
   "id": "2a9d7dc3-8133-46f5-a3b1-651ab53977df",
   "metadata": {},
   "outputs": [
    {
     "name": "stdout",
     "output_type": "stream",
     "text": [
      "+-------+--------------------+--------------------+\n",
      "|version|           timestamp|           operation|\n",
      "+-------+--------------------+--------------------+\n",
      "|      8|2024-10-10 13:26:...|   SET TBLPROPERTIES|\n",
      "|      7|2024-10-10 13:17:...|CREATE OR REPLACE...|\n",
      "|      6|2024-10-06 14:49:...|          VACUUM END|\n",
      "|      5|2024-10-06 14:49:...|        VACUUM START|\n",
      "|      4|2024-10-06 14:48:...|             RESTORE|\n",
      "|      3|2024-10-06 14:47:...|              DELETE|\n",
      "|      2|2024-10-06 14:46:...|            OPTIMIZE|\n",
      "|      1|2024-10-06 14:45:...|               MERGE|\n",
      "|      0|2024-10-06 14:41:...|CREATE TABLE AS S...|\n",
      "+-------+--------------------+--------------------+\n",
      "\n"
     ]
    }
   ],
   "source": [
    "spark.sql('describe history accounts').select('version', 'timestamp', 'operation').show()"
   ]
  },
  {
   "cell_type": "code",
   "execution_count": 19,
   "id": "da3f2ce5-336a-4ad3-bde9-a3ea9d582b21",
   "metadata": {},
   "outputs": [
    {
     "name": "stdout",
     "output_type": "stream",
     "text": [
      "+-------+------------+-----+--------+---------+-------+----------+-----+------------+---------------+-----------------+\n",
      "|user_id|display_name|about|location|downvotes|upvotes|reputation|views|_change_type|_commit_version|_commit_timestamp|\n",
      "+-------+------------+-----+--------+---------+-------+----------+-----+------------+---------------+-----------------+\n",
      "+-------+------------+-----+--------+---------+-------+----------+-----+------------+---------------+-----------------+\n",
      "\n"
     ]
    }
   ],
   "source": [
    "(\n",
    "    spark.read\n",
    "    .format('delta')\n",
    "    .option('readChangeFeed', 'true')\n",
    "    .option('startingVersion', 8)\n",
    "    .table('accounts')\n",
    ").show()"
   ]
  },
  {
   "cell_type": "code",
   "execution_count": 20,
   "id": "e1da506b-104d-4c51-ab85-944f3f40d993",
   "metadata": {},
   "outputs": [
    {
     "name": "stderr",
     "output_type": "stream",
     "text": [
      "                                                                                \r"
     ]
    }
   ],
   "source": [
    "DeltaTable.forName(spark, 'accounts').delete(col('user_id') == 79)"
   ]
  },
  {
   "cell_type": "code",
   "execution_count": 21,
   "id": "11c64359-bf76-46d7-b9b7-2d09fc4ada5e",
   "metadata": {},
   "outputs": [
    {
     "name": "stdout",
     "output_type": "stream",
     "text": [
      "+-------+------------+--------------------+--------+---------+-------+----------+-----+------------+---------------+--------------------+\n",
      "|user_id|display_name|               about|location|downvotes|upvotes|reputation|views|_change_type|_commit_version|   _commit_timestamp|\n",
      "+-------+------------+--------------------+--------+---------+-------+----------+-----+------------+---------------+--------------------+\n",
      "|     79|  Adam Ernst|<p>I'm an iOS dev...|    NULL|       38|    411|     41056| 1439|      delete|              9|2024-10-10 15:07:...|\n",
      "+-------+------------+--------------------+--------+---------+-------+----------+-----+------------+---------------+--------------------+\n",
      "\n"
     ]
    }
   ],
   "source": [
    "(\n",
    "    spark.read\n",
    "    .format('delta')\n",
    "    .option('readChangeFeed', 'true')\n",
    "    .option('startingVersion', 8)\n",
    "    .table('accounts')\n",
    ").show()"
   ]
  },
  {
   "cell_type": "code",
   "execution_count": 23,
   "id": "acd5fc5d-77c1-47d0-b11c-efc7a434b16a",
   "metadata": {},
   "outputs": [
    {
     "name": "stderr",
     "output_type": "stream",
     "text": [
      "                                                                                \r"
     ]
    }
   ],
   "source": [
    "(\n",
    "    spark.read\n",
    "    .format('delta')\n",
    "    .option('readChangeFeed', 'true')\n",
    "    .option('startingVersion', 8)\n",
    "    .table('accounts')\n",
    "    .drop('_change_type', '_commit_version', '_commit_timestamp')\n",
    "    .write\n",
    "    .mode('append')\n",
    "    .format('delta')\n",
    "    .option('path', accounts_output_path)\n",
    "    .saveAsTable('accounts')\n",
    ")"
   ]
  },
  {
   "cell_type": "code",
   "execution_count": 24,
   "id": "ce159b13-0f37-434f-9ba1-2ca1d90984e9",
   "metadata": {},
   "outputs": [
    {
     "name": "stdout",
     "output_type": "stream",
     "text": [
      "+-------+--------------------+--------------------+\n",
      "|version|           timestamp|           operation|\n",
      "+-------+--------------------+--------------------+\n",
      "|     10|2024-10-10 15:13:...|               WRITE|\n",
      "|      9|2024-10-10 15:07:...|              DELETE|\n",
      "|      8|2024-10-10 13:26:...|   SET TBLPROPERTIES|\n",
      "|      7|2024-10-10 13:17:...|CREATE OR REPLACE...|\n",
      "|      6|2024-10-06 14:49:...|          VACUUM END|\n",
      "|      5|2024-10-06 14:49:...|        VACUUM START|\n",
      "|      4|2024-10-06 14:48:...|             RESTORE|\n",
      "|      3|2024-10-06 14:47:...|              DELETE|\n",
      "|      2|2024-10-06 14:46:...|            OPTIMIZE|\n",
      "|      1|2024-10-06 14:45:...|               MERGE|\n",
      "|      0|2024-10-06 14:41:...|CREATE TABLE AS S...|\n",
      "+-------+--------------------+--------------------+\n",
      "\n"
     ]
    }
   ],
   "source": [
    "spark.sql('describe history accounts').select('version', 'timestamp', 'operation').show()"
   ]
  },
  {
   "cell_type": "code",
   "execution_count": 25,
   "id": "c6bec510-22fa-417f-a35c-ad380a7a82df",
   "metadata": {},
   "outputs": [
    {
     "name": "stdout",
     "output_type": "stream",
     "text": [
      "+-------+------------+--------------------+--------+---------+-------+----------+-----+------------+---------------+--------------------+\n",
      "|user_id|display_name|               about|location|downvotes|upvotes|reputation|views|_change_type|_commit_version|   _commit_timestamp|\n",
      "+-------+------------+--------------------+--------+---------+-------+----------+-----+------------+---------------+--------------------+\n",
      "|     79|  Adam Ernst|<p>I'm an iOS dev...|    NULL|       38|    411|     41056| 1439|      delete|              9|2024-10-10 15:07:...|\n",
      "|     79|  Adam Ernst|<p>I'm an iOS dev...|    NULL|       38|    411|     41056| 1439|      insert|             10|2024-10-10 15:13:...|\n",
      "+-------+------------+--------------------+--------+---------+-------+----------+-----+------------+---------------+--------------------+\n",
      "\n"
     ]
    }
   ],
   "source": [
    "(\n",
    "    spark.read\n",
    "    .format('delta')\n",
    "    .option('readChangeFeed', 'true')\n",
    "    .option('startingVersion', 8)\n",
    "    .table('accounts')\n",
    ").show()"
   ]
  },
  {
   "cell_type": "code",
   "execution_count": 26,
   "id": "9ea93f58-70c7-47c2-a57c-7c729d40fb04",
   "metadata": {},
   "outputs": [
    {
     "data": {
      "text/plain": [
       "DataFrame[]"
      ]
     },
     "execution_count": 26,
     "metadata": {},
     "output_type": "execute_result"
    }
   ],
   "source": [
    "spark.sql('drop table if exists accounts')"
   ]
  },
  {
   "cell_type": "code",
   "execution_count": 29,
   "id": "5d286002-a981-4a06-9649-020ae6d2507c",
   "metadata": {},
   "outputs": [
    {
     "name": "stderr",
     "output_type": "stream",
     "text": [
      "                                                                                \r"
     ]
    },
    {
     "name": "stdout",
     "output_type": "stream",
     "text": [
      "+--------+-----------------+--------------------+--------+---------+-------+----------+-----+\n",
      "| user_id|     display_name|               about|location|downvotes|upvotes|reputation|views|\n",
      "+--------+-----------------+--------------------+--------+---------+-------+----------+-----+\n",
      "| 2005342|George Gorczynski|                    |    NULL|        0|      0|        31|    5|\n",
      "| 5239596|         wp-kings|                NULL|    NULL|        0|      0|         1|    0|\n",
      "| 7729673|              Zro|<p>I write code t...|    NULL|        0|      0|        11|    1|\n",
      "|10291510|           Sergei|                NULL|    NULL|        0|      0|         1|    0|\n",
      "| 8481958|             Zico|                NULL|    NULL|        0|      0|         1|    0|\n",
      "|12472375|Raj Kumar Meshram|                NULL|    NULL|        0|      0|         1|    0|\n",
      "| 2826358|  Justin Thompson|                NULL|    NULL|        0|      0|         1|    3|\n",
      "| 8047640|           jora91|                NULL|    NULL|        0|      0|        11|    0|\n",
      "| 4516821|      Neil Dunbar|                NULL|    NULL|        0|      0|         1|    0|\n",
      "| 7203345|      johnchanges|                NULL|    NULL|        0|      0|         1|    3|\n",
      "|10962303|           tux167|                NULL|    NULL|        0|      0|         1|    0|\n",
      "| 2881571|          Toni Mc|                NULL|    NULL|        0|      0|         1|    2|\n",
      "| 1272811|      Ziad Rahhal|                NULL|    NULL|        0|      0|        11|    2|\n",
      "| 8824989|      user8824989|                NULL|    NULL|        0|      0|         1|    0|\n",
      "| 4384596|            Dwigg|<p>IT Student, kn...|    NULL|        0|      0|         1|    0|\n",
      "| 8792249|           Katomi|                NULL|    NULL|        0|      0|        25|   10|\n",
      "| 5952335|             Sina|                    |    NULL|        0|      0|        31|    6|\n",
      "| 5888597|  Calison Ribeiro|                NULL|    NULL|        0|      0|         1|    2|\n",
      "| 3916650|      user3916650|                NULL|    NULL|        0|      0|         1|    0|\n",
      "| 9443074|      feuerwasser|                NULL|    NULL|        0|      0|         9|    0|\n",
      "+--------+-----------------+--------------------+--------+---------+-------+----------+-----+\n",
      "only showing top 20 rows\n",
      "\n"
     ]
    },
    {
     "name": "stderr",
     "output_type": "stream",
     "text": [
      "                                                                                \r"
     ]
    }
   ],
   "source": [
    "DeltaTable.forPath(spark, accounts_output_path).toDF().show()"
   ]
  },
  {
   "cell_type": "code",
   "execution_count": 31,
   "id": "c1d063ea-b0fe-40e7-a77d-54f902a70cf6",
   "metadata": {},
   "outputs": [
    {
     "name": "stdout",
     "output_type": "stream",
     "text": [
      "+-------+-----------------------+------------------------------+\n",
      "|version|              timestamp|                     operation|\n",
      "+-------+-----------------------+------------------------------+\n",
      "|     10|2024-10-10 15:13:50.444|                         WRITE|\n",
      "|      9|2024-10-10 15:07:01.347|                        DELETE|\n",
      "|      8|2024-10-10 13:26:55.637|             SET TBLPROPERTIES|\n",
      "|      7|2024-10-10 13:17:05.864|CREATE OR REPLACE TABLE AS ...|\n",
      "|      6|2024-10-06 14:49:37.913|                    VACUUM END|\n",
      "|      5|2024-10-06 14:49:36.037|                  VACUUM START|\n",
      "|      4|2024-10-06 14:48:25.086|                       RESTORE|\n",
      "|      3|2024-10-06 14:47:20.673|                        DELETE|\n",
      "|      2|2024-10-06 14:46:46.875|                      OPTIMIZE|\n",
      "|      1|2024-10-06 14:45:40.178|                         MERGE|\n",
      "|      0|2024-10-06 14:41:24.372|        CREATE TABLE AS SELECT|\n",
      "+-------+-----------------------+------------------------------+\n",
      "\n"
     ]
    }
   ],
   "source": [
    "DeltaTable.forPath(spark, accounts_output_path).history().select('version', 'timestamp', 'operation').show(truncate=30)"
   ]
  },
  {
   "cell_type": "code",
   "execution_count": 37,
   "id": "237bd32f-8c49-4d32-afa7-f978e91ae271",
   "metadata": {},
   "outputs": [
    {
     "data": {
      "text/plain": [
       "DataFrame[]"
      ]
     },
     "execution_count": 37,
     "metadata": {},
     "output_type": "execute_result"
    }
   ],
   "source": [
    "spark.sql(f\"\"\"\n",
    "    CREATE TABLE accounts\n",
    "    USING DELTA\n",
    "    LOCATION '{accounts_output_path}'\n",
    "\"\"\")"
   ]
  },
  {
   "cell_type": "code",
   "execution_count": 38,
   "id": "e26433ea-f91f-400c-ba21-74c8a6534761",
   "metadata": {},
   "outputs": [
    {
     "name": "stdout",
     "output_type": "stream",
     "text": [
      "+---------+---------+-----------+\n",
      "|namespace|tableName|isTemporary|\n",
      "+---------+---------+-----------+\n",
      "|  default| accounts|      false|\n",
      "+---------+---------+-----------+\n",
      "\n"
     ]
    }
   ],
   "source": [
    "spark.sql('show tables').show()"
   ]
  },
  {
   "cell_type": "code",
   "execution_count": 39,
   "id": "08c89cd8-4dd7-4a67-ac51-bcc5c1e83811",
   "metadata": {},
   "outputs": [
    {
     "name": "stdout",
     "output_type": "stream",
     "text": [
      "+-------+------------+--------------------+--------+---------+-------+----------+-----+------------+---------------+--------------------+\n",
      "|user_id|display_name|               about|location|downvotes|upvotes|reputation|views|_change_type|_commit_version|   _commit_timestamp|\n",
      "+-------+------------+--------------------+--------+---------+-------+----------+-----+------------+---------------+--------------------+\n",
      "|     79|  Adam Ernst|<p>I'm an iOS dev...|    NULL|       38|    411|     41056| 1439|      delete|              9|2024-10-10 15:07:...|\n",
      "|     79|  Adam Ernst|<p>I'm an iOS dev...|    NULL|       38|    411|     41056| 1439|      insert|             10|2024-10-10 15:13:...|\n",
      "+-------+------------+--------------------+--------+---------+-------+----------+-----+------------+---------------+--------------------+\n",
      "\n"
     ]
    }
   ],
   "source": [
    "(\n",
    "    spark.read\n",
    "    .format('delta')\n",
    "    .option('readChangeFeed', 'true')\n",
    "    .option('startingVersion', 8)\n",
    "    .table('accounts')\n",
    ").show()"
   ]
  },
  {
   "cell_type": "code",
   "execution_count": null,
   "id": "f6a07685-47c8-4f59-b0bf-9589c16bc9a1",
   "metadata": {},
   "outputs": [],
   "source": []
  }
 ],
 "metadata": {
  "kernelspec": {
   "display_name": "Python 3 (ipykernel)",
   "language": "python",
   "name": "python3"
  },
  "language_info": {
   "codemirror_mode": {
    "name": "ipython",
    "version": 3
   },
   "file_extension": ".py",
   "mimetype": "text/x-python",
   "name": "python",
   "nbconvert_exporter": "python",
   "pygments_lexer": "ipython3",
   "version": "3.12.3"
  }
 },
 "nbformat": 4,
 "nbformat_minor": 5
}
