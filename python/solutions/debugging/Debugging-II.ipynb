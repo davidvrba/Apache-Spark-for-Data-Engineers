{
 "cells": [
  {
   "cell_type": "markdown",
   "id": "c59700d7",
   "metadata": {},
   "source": [
    "# Task\n",
    "\n",
    "Investigate a problem related to reading data with schema."
   ]
  },
  {
   "cell_type": "code",
   "execution_count": null,
   "id": "4c9128b6",
   "metadata": {},
   "outputs": [],
   "source": [
    "import pyspark\n",
    "from pyspark.sql import SparkSession\n",
    "from pyspark.sql.functions import *\n",
    "from pyspark.sql.types import *\n",
    "\n",
    "\n",
    "import os"
   ]
  },
  {
   "cell_type": "code",
   "execution_count": null,
   "id": "ddc1c8e6",
   "metadata": {},
   "outputs": [],
   "source": [
    "spark = (\n",
    "    SparkSession\n",
    "    .builder\n",
    "    .appName('Debugging-II')\n",
    "    .getOrCreate()\n",
    ")"
   ]
  },
  {
   "cell_type": "code",
   "execution_count": null,
   "id": "25e2e7f8",
   "metadata": {},
   "outputs": [],
   "source": [
    "spark.version"
   ]
  },
  {
   "cell_type": "code",
   "execution_count": null,
   "id": "1b10606f",
   "metadata": {},
   "outputs": [],
   "source": [
    "base_path = os.getcwd()\n",
    "\n",
    "project_path = ('/').join(base_path.split('/')[0:-3]) \n",
    "\n",
    "sample_data_with_metadata = os.path.join(project_path, 'data/sample_data_with_metadata')"
   ]
  },
  {
   "cell_type": "markdown",
   "id": "98b85ea2",
   "metadata": {},
   "source": [
    "1. Read data from the `sample_data_with_metadata`, the format of the files is `JSON` and the schema is provided bellow\n",
    "2. Find out how many records are there that have in the user_metadata.reputation column value 0.\n",
    "3. Read the data twice, first with the schema and then without the schema\n",
    "4. Can you see a problem? If yes, can you explain what happened and fix it?"
   ]
  },
  {
   "cell_type": "code",
   "execution_count": null,
   "id": "227a0266",
   "metadata": {},
   "outputs": [],
   "source": [
    "data_schema = StructType([\n",
    "    StructField('question_id', LongType()),\n",
    "    StructField('user_id', LongType()),\n",
    "    StructField('creation_date', TimestampType()),\n",
    "    StructField('comments', LongType()),\n",
    "    StructField('user_metadata', StructType([\n",
    "        StructField('has_location', BooleanType()),\n",
    "        StructField('upvotes', LongType()),\n",
    "        StructField('reputation', LongType()),\n",
    "    ]))\n",
    "])"
   ]
  },
  {
   "cell_type": "code",
   "execution_count": null,
   "id": "0e0c37a4",
   "metadata": {},
   "outputs": [],
   "source": [
    "# read the data with the schema and filter for user_metadata.upovotes == 0\n",
    "\n",
    "(\n",
    "    spark.read\n",
    "    .schema(data_schema)\n",
    "    .format('json')\n",
    "    .load('/Users/david.vrba/spark-trainings/Apache-Spark-for-Data-Engineers/data/test/untitled.json')\n",
    "    .filter(col('user_metadata.upvotes') == 0)\n",
    ").count()"
   ]
  },
  {
   "cell_type": "code",
   "execution_count": null,
   "id": "8314512d",
   "metadata": {},
   "outputs": [],
   "source": [
    "# read the data without the schema and filter for user_metadata.upovotes == 0\n",
    "\n",
    "(\n",
    "    spark.read.format('json')\n",
    "    .load('/Users/david.vrba/spark-trainings/Apache-Spark-for-Data-Engineers/data/test/untitled.json')\n",
    "    .filter(col('user_metadata.upvotes') == 0)\n",
    ").count()"
   ]
  },
  {
   "cell_type": "code",
   "execution_count": null,
   "id": "69451837",
   "metadata": {},
   "outputs": [],
   "source": [
    "# The problem is that the user_id = 3416503 has value 0 instead of False in the column `has_location`, \n",
    "# it means that the data doesn't follow the schema and the entire struct becomes NULL\n",
    "# if you let spark infer the schema, Spark will infer string and is able to read it\n",
    "\n",
    "(\n",
    "    spark.read.format('json')\n",
    "    .load('/Users/david.vrba/spark-trainings/Apache-Spark-for-Data-Engineers/data/test/untitled.json')\n",
    "    .filter(col('user_id') == 3416503)\n",
    ").show(n=50)"
   ]
  },
  {
   "cell_type": "code",
   "execution_count": null,
   "id": "2cde44ce",
   "metadata": {},
   "outputs": [],
   "source": [
    "# If we want to use the boolean data type in the has_location column we can read it as string and then cast it \n",
    "# to boolean, this is possible for values 0/1\n",
    "\n",
    "metadata_schema = StructType([\n",
    "    StructField('has_location', BooleanType()),\n",
    "    StructField('upvotes', LongType()),\n",
    "    StructField('reputation', LongType()),\n",
    "])\n",
    "\n",
    "(\n",
    "    spark.read.format('json')\n",
    "    .load('/Users/david.vrba/spark-trainings/Apache-Spark-for-Data-Engineers/data/test/untitled.json')\n",
    "    .withColumn('user_metadata', col('user_metadata').cast(metadata_schema))\n",
    ").show(n=50)"
   ]
  },
  {
   "cell_type": "code",
   "execution_count": null,
   "id": "3f6f1cb5",
   "metadata": {},
   "outputs": [],
   "source": []
  }
 ],
 "metadata": {
  "kernelspec": {
   "display_name": "PySpark Delta Python 3.10.1",
   "language": "python",
   "name": "python-3.10"
  },
  "language_info": {
   "codemirror_mode": {
    "name": "ipython",
    "version": 3
   },
   "file_extension": ".py",
   "mimetype": "text/x-python",
   "name": "python",
   "nbconvert_exporter": "python",
   "pygments_lexer": "ipython3",
   "version": "3.10.1"
  }
 },
 "nbformat": 4,
 "nbformat_minor": 5
}
