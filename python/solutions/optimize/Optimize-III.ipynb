{
 "cells": [
  {
   "cell_type": "markdown",
   "id": "cdec7ec8",
   "metadata": {},
   "source": [
    "# Task - Union two aggregated subresults\n",
    "\n",
    "* Work with the answers dataset\n",
    "* For each question compute how many answers it has\n",
    "* For each question compute the sum of the answer's score\n",
    "* Combine these subresults into one final output using Union\n",
    " * The output should have three cols: question_id, metricValue, metricName (which is either sum or count)"
   ]
  },
  {
   "cell_type": "code",
   "execution_count": null,
   "id": "f4f63c83",
   "metadata": {},
   "outputs": [],
   "source": [
    "import pyspark\n",
    "from pyspark.sql import SparkSession\n",
    "from pyspark.sql.functions import *\n",
    "\n",
    "from pyspark.sql import Window\n",
    "from pyspark.sql.types import IntegerType\n",
    "\n",
    "import os"
   ]
  },
  {
   "cell_type": "code",
   "execution_count": null,
   "id": "970571a5",
   "metadata": {},
   "outputs": [],
   "source": [
    "spark = (\n",
    "    SparkSession\n",
    "    .builder\n",
    "    .appName('Optimize II')\n",
    "    .enableHiveSupport()\n",
    "    .getOrCreate()\n",
    ")"
   ]
  },
  {
   "cell_type": "code",
   "execution_count": null,
   "id": "fdce527a",
   "metadata": {},
   "outputs": [],
   "source": [
    "base_path = os.getcwd()\n",
    "\n",
    "project_path = ('/').join(base_path.split('/')[0:-3]) \n",
    "\n",
    "answers_input_path = os.path.join(project_path, 'data/answers')"
   ]
  },
  {
   "cell_type": "code",
   "execution_count": null,
   "id": "5b8f65f0",
   "metadata": {},
   "outputs": [],
   "source": [
    "answersDF = spark.read.parquet(answers_input_path)"
   ]
  },
  {
   "cell_type": "code",
   "execution_count": null,
   "id": "4f3f9db9",
   "metadata": {},
   "outputs": [],
   "source": [
    "# Here we sum the score for each question:\n",
    "dfSum = (\n",
    "  answersDF\n",
    "  .groupBy(\"question_id\")\n",
    "  .agg(\n",
    "    sum(\"score\").alias(\"metricValue\")\n",
    "  )\n",
    "  .withColumn(\"metricName\", lit(\"sum\"))\n",
    ")\n",
    "\n",
    "# Here we count how many answers each question has:\n",
    "dfCount = (\n",
    "  answersDF\n",
    "  .groupBy(\"question_id\")\n",
    "  .agg(\n",
    "    count(\"score\").alias(\"metricValue\")\n",
    "  )\n",
    "  .withColumn(\"metricName\", lit(\"count\"))\n",
    ")\n",
    "\n",
    "# Here we union both results:\n",
    "resultDF = dfSum.union(dfCount)\n",
    "\n",
    "# Run the execution for the final query:\n",
    "(\n",
    "    resultDF\n",
    "    .write\n",
    "    .mode('overwrite')\n",
    "    .format('noop')\n",
    "    .save()\n",
    ")"
   ]
  },
  {
   "cell_type": "code",
   "execution_count": null,
   "id": "57e16842",
   "metadata": {},
   "outputs": [],
   "source": [
    "# Here we just slightly rewrite the query by refactoring the common part:\n",
    "\n",
    "dfCommon = (\n",
    "  answersDF\n",
    "  .groupBy(\"question_id\")\n",
    ")\n",
    "\n",
    "dfSum = (\n",
    "  dfCommon\n",
    "  .agg(\n",
    "    sum(\"score\").alias(\"metricValue\")\n",
    "  )\n",
    "  .withColumn(\"metricName\", lit(\"sum\"))\n",
    ")\n",
    "\n",
    "dfCount = (\n",
    "  dfCommon\n",
    "  .agg(\n",
    "    count(\"score\").alias(\"metricValue\")\n",
    "  )\n",
    "  .withColumn(\"metricName\", lit(\"count\"))\n",
    ")\n",
    "\n",
    "resultDF = dfSum.union(dfCount)\n",
    "\n",
    "(\n",
    "    resultDF\n",
    "    .write\n",
    "    .mode('overwrite')\n",
    "    .format('noop')\n",
    "    .save()\n",
    ")"
   ]
  },
  {
   "cell_type": "markdown",
   "id": "629f0a54",
   "metadata": {},
   "source": [
    "#### Rewrite the query in more optimal way\n",
    "\n",
    "Hint:\n",
    "* check the query plan\n",
    "* try to reuse the `Exchange` operator"
   ]
  },
  {
   "cell_type": "code",
   "execution_count": null,
   "id": "538e5a9c",
   "metadata": {},
   "outputs": [],
   "source": [
    "# Optimized:\n",
    "# Add repartition\n",
    "# Check the query plan - the Exchange is reused now\n",
    "\n",
    "dfSum = (\n",
    "  answersDF\n",
    "  .repartition(\"question_id\")\n",
    "  .groupBy(\"question_id\")\n",
    "  .agg(\n",
    "    sum(\"score\").alias(\"metricValue\")\n",
    "  )\n",
    "  .withColumn(\"metricName\", lit(\"sum\"))\n",
    ")\n",
    "\n",
    "dfCount = (\n",
    "  answersDF\n",
    "  .repartition(\"question_id\")\n",
    "  .groupBy(\"question_id\")\n",
    "  .agg(\n",
    "    count(\"score\").alias(\"metricValue\")\n",
    "  )\n",
    "  .withColumn(\"metricName\", lit(\"count\"))\n",
    ")\n",
    "\n",
    "resultDF = dfSum.union(dfCount)\n",
    "\n",
    "(\n",
    "    resultDF\n",
    "    .write\n",
    "    .mode('overwrite')\n",
    "    .format('noop')\n",
    "    .save()\n",
    ")"
   ]
  },
  {
   "cell_type": "code",
   "execution_count": null,
   "id": "1753b265",
   "metadata": {},
   "outputs": [],
   "source": [
    "# optimized & refactored:\n",
    "\n",
    "dfCommon = (\n",
    "  answersDF\n",
    "  .repartition(\"question_id\")\n",
    "  .groupBy(\"question_id\")\n",
    ")\n",
    "\n",
    "dfSum = (\n",
    "  dfCommon\n",
    "  .agg(\n",
    "    sum(\"score\").alias(\"metricValue\")\n",
    "  )\n",
    "  .withColumn(\"metricName\", lit(\"sum\"))\n",
    ")\n",
    "\n",
    "dfCount = (\n",
    "  dfCommon\n",
    "  .agg(\n",
    "    count(\"score\").alias(\"metricValue\")\n",
    "  )\n",
    "  .withColumn(\"metricName\", lit(\"count\"))\n",
    ")\n",
    "\n",
    "resultDF = dfSum.union(dfCount)\n",
    "\n",
    "(\n",
    "    resultDF\n",
    "    .write\n",
    "    .mode('overwrite')\n",
    "    .format('noop')\n",
    "    .save()\n",
    ")"
   ]
  },
  {
   "cell_type": "code",
   "execution_count": null,
   "id": "45ab83ff",
   "metadata": {},
   "outputs": [],
   "source": [
    "spark.stop()"
   ]
  }
 ],
 "metadata": {
  "kernelspec": {
   "display_name": "PySpark Delta Python 3.10.1",
   "language": "python",
   "name": "python-3.10"
  },
  "language_info": {
   "codemirror_mode": {
    "name": "ipython",
    "version": 3
   },
   "file_extension": ".py",
   "mimetype": "text/x-python",
   "name": "python",
   "nbconvert_exporter": "python",
   "pygments_lexer": "ipython3",
   "version": "3.10.1"
  }
 },
 "nbformat": 4,
 "nbformat_minor": 5
}
